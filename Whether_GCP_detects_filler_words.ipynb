{
  "nbformat": 4,
  "nbformat_minor": 0,
  "metadata": {
    "colab": {
      "name": "Whether GCP detects filler words",
      "provenance": [],
      "collapsed_sections": []
    },
    "kernelspec": {
      "name": "python3",
      "display_name": "Python 3"
    },
    "language_info": {
      "name": "python"
    }
  },
  "cells": [
    {
      "cell_type": "code",
      "metadata": {
        "id": "sfu7_4YcdYIV"
      },
      "source": [
        "#This experimental code checks whether GCP(google cloud platform) using google speech to text API can detect the filler words or not.\n",
        "#Inputs: audios with filler words- wav file from google drive(/content/drive/My Drive/Paleru_Khushi/Filler_words_audios/) ,Json file containing GCP credentials which is stored in 'silken-physics-308117-ed4e35c61a30.json' and Audio file gsutil link\n",
        "#Output: Transcript without filler words\n",
        "#Conclusion: GCP does not detect/display filler words\n",
        "#Files this notebook refers: Audio files inside '/content/drive/My Drive/Paleru_Khushi/Filler_words_audios/' and '/content/drive/MyDrive/Paleru_Khushi/JSON/'\n",
        "#Note: Json file which contains credentials to GCP is required to use Google Speech API and get gsutil link after uploading audio file on bucket (see the permission is given to add bucket or not from GCP).\n",
        "#Things required for Developer: JSON file, developer has to be given access to GCP with neccessary permissions.\n",
        "#Author: Khushi Pitroda\n",
        "#Date: 6-July-2021"
      ],
      "execution_count": null,
      "outputs": []
    },
    {
      "cell_type": "code",
      "metadata": {
        "id": "BQkigrSxeWTs"
      },
      "source": [
        "#Prerequisite\n",
        "#.Wav (audio) files containing filler words\n",
        "#JSON file which contain credentials to GCP. Store it to the Drive.\n",
        "#gsutil URI link for each audio file"
      ],
      "execution_count": null,
      "outputs": []
    },
    {
      "cell_type": "code",
      "metadata": {
        "colab": {
          "base_uri": "https://localhost:8080/"
        },
        "id": "t2cogLohhKFv",
        "outputId": "a4df903f-2fd1-4412-e933-2c0452e0a61f"
      },
      "source": [
        "from google.colab import drive\n",
        "drive.mount(\"/content/drive\")"
      ],
      "execution_count": null,
      "outputs": [
        {
          "output_type": "stream",
          "text": [
            "Mounted at /content/drive\n"
          ],
          "name": "stdout"
        }
      ]
    },
    {
      "cell_type": "code",
      "metadata": {
        "id": "XX97fs0qhwga"
      },
      "source": [
        "#Change directory \n",
        "#Go to shared with me folder create shortcut of shared folder and add it to the my drive so you can access that shared folder from here.\n",
        "\n",
        "import os \n",
        "os.chdir(\"/content/drive/MyDrive/Paleru_Khushi\")    "
      ],
      "execution_count": null,
      "outputs": []
    },
    {
      "cell_type": "code",
      "metadata": {
        "colab": {
          "base_uri": "https://localhost:8080/",
          "height": 820
        },
        "id": "NoiElEhSh2k2",
        "outputId": "29191072-9ba2-43e0-ecae-293c2db563d6"
      },
      "source": [
        "#Installing Google cloud speech API\n",
        "#After running the code, press 'Runtime restart'\n",
        "!pip uninstall google-cloud-speech       #(if doesn't work)\n",
        "\n",
        "!pip install google-cloud-speech\n"
      ],
      "execution_count": null,
      "outputs": [
        {
          "output_type": "stream",
          "text": [
            "Found existing installation: google-cloud-speech 2.5.1\n",
            "Uninstalling google-cloud-speech-2.5.1:\n",
            "  Would remove:\n",
            "    /usr/local/bin/fixup_speech_v1_keywords.py\n",
            "    /usr/local/bin/fixup_speech_v1p1beta1_keywords.py\n",
            "    /usr/local/lib/python3.7/dist-packages/google/cloud/speech/*\n",
            "    /usr/local/lib/python3.7/dist-packages/google/cloud/speech_v1/*\n",
            "    /usr/local/lib/python3.7/dist-packages/google/cloud/speech_v1p1beta1/*\n",
            "    /usr/local/lib/python3.7/dist-packages/google_cloud_speech-2.5.1-py3.9-nspkg.pth\n",
            "    /usr/local/lib/python3.7/dist-packages/google_cloud_speech-2.5.1.dist-info/*\n",
            "Proceed (y/n)? y\n",
            "  Successfully uninstalled google-cloud-speech-2.5.1\n",
            "Collecting google-cloud-speech\n",
            "  Using cached google_cloud_speech-2.5.1-py2.py3-none-any.whl (119 kB)\n",
            "Requirement already satisfied: libcst>=0.2.5 in /usr/local/lib/python3.7/dist-packages (from google-cloud-speech) (0.3.19)\n",
            "Requirement already satisfied: google-api-core[grpc]<3.0.0dev,>=1.26.0 in /usr/local/lib/python3.7/dist-packages (from google-cloud-speech) (1.26.3)\n",
            "Requirement already satisfied: packaging>=14.3 in /usr/local/lib/python3.7/dist-packages (from google-cloud-speech) (21.0)\n",
            "Requirement already satisfied: proto-plus>=1.4.0 in /usr/local/lib/python3.7/dist-packages (from google-cloud-speech) (1.19.0)\n",
            "Requirement already satisfied: setuptools>=40.3.0 in /usr/local/lib/python3.7/dist-packages (from google-api-core[grpc]<3.0.0dev,>=1.26.0->google-cloud-speech) (57.2.0)\n",
            "Requirement already satisfied: requests<3.0.0dev,>=2.18.0 in /usr/local/lib/python3.7/dist-packages (from google-api-core[grpc]<3.0.0dev,>=1.26.0->google-cloud-speech) (2.23.0)\n",
            "Requirement already satisfied: six>=1.13.0 in /usr/local/lib/python3.7/dist-packages (from google-api-core[grpc]<3.0.0dev,>=1.26.0->google-cloud-speech) (1.15.0)\n",
            "Requirement already satisfied: googleapis-common-protos<2.0dev,>=1.6.0 in /usr/local/lib/python3.7/dist-packages (from google-api-core[grpc]<3.0.0dev,>=1.26.0->google-cloud-speech) (1.53.0)\n",
            "Requirement already satisfied: pytz in /usr/local/lib/python3.7/dist-packages (from google-api-core[grpc]<3.0.0dev,>=1.26.0->google-cloud-speech) (2018.9)\n",
            "Requirement already satisfied: google-auth<2.0dev,>=1.21.1 in /usr/local/lib/python3.7/dist-packages (from google-api-core[grpc]<3.0.0dev,>=1.26.0->google-cloud-speech) (1.32.1)\n",
            "Requirement already satisfied: protobuf>=3.12.0 in /usr/local/lib/python3.7/dist-packages (from google-api-core[grpc]<3.0.0dev,>=1.26.0->google-cloud-speech) (3.17.3)\n",
            "Requirement already satisfied: grpcio<2.0dev,>=1.29.0 in /usr/local/lib/python3.7/dist-packages (from google-api-core[grpc]<3.0.0dev,>=1.26.0->google-cloud-speech) (1.34.1)\n",
            "Requirement already satisfied: pyasn1-modules>=0.2.1 in /usr/local/lib/python3.7/dist-packages (from google-auth<2.0dev,>=1.21.1->google-api-core[grpc]<3.0.0dev,>=1.26.0->google-cloud-speech) (0.2.8)\n",
            "Requirement already satisfied: cachetools<5.0,>=2.0.0 in /usr/local/lib/python3.7/dist-packages (from google-auth<2.0dev,>=1.21.1->google-api-core[grpc]<3.0.0dev,>=1.26.0->google-cloud-speech) (4.2.2)\n",
            "Requirement already satisfied: rsa<5,>=3.1.4 in /usr/local/lib/python3.7/dist-packages (from google-auth<2.0dev,>=1.21.1->google-api-core[grpc]<3.0.0dev,>=1.26.0->google-cloud-speech) (4.7.2)\n",
            "Requirement already satisfied: typing-extensions>=3.7.4.2 in /usr/local/lib/python3.7/dist-packages (from libcst>=0.2.5->google-cloud-speech) (3.7.4.3)\n",
            "Requirement already satisfied: typing-inspect>=0.4.0 in /usr/local/lib/python3.7/dist-packages (from libcst>=0.2.5->google-cloud-speech) (0.7.1)\n",
            "Requirement already satisfied: pyyaml>=5.2 in /usr/local/lib/python3.7/dist-packages (from libcst>=0.2.5->google-cloud-speech) (5.4.1)\n",
            "Requirement already satisfied: pyparsing>=2.0.2 in /usr/local/lib/python3.7/dist-packages (from packaging>=14.3->google-cloud-speech) (2.4.7)\n",
            "Requirement already satisfied: pyasn1<0.5.0,>=0.4.6 in /usr/local/lib/python3.7/dist-packages (from pyasn1-modules>=0.2.1->google-auth<2.0dev,>=1.21.1->google-api-core[grpc]<3.0.0dev,>=1.26.0->google-cloud-speech) (0.4.8)\n",
            "Requirement already satisfied: certifi>=2017.4.17 in /usr/local/lib/python3.7/dist-packages (from requests<3.0.0dev,>=2.18.0->google-api-core[grpc]<3.0.0dev,>=1.26.0->google-cloud-speech) (2021.5.30)\n",
            "Requirement already satisfied: idna<3,>=2.5 in /usr/local/lib/python3.7/dist-packages (from requests<3.0.0dev,>=2.18.0->google-api-core[grpc]<3.0.0dev,>=1.26.0->google-cloud-speech) (2.10)\n",
            "Requirement already satisfied: urllib3!=1.25.0,!=1.25.1,<1.26,>=1.21.1 in /usr/local/lib/python3.7/dist-packages (from requests<3.0.0dev,>=2.18.0->google-api-core[grpc]<3.0.0dev,>=1.26.0->google-cloud-speech) (1.24.3)\n",
            "Requirement already satisfied: chardet<4,>=3.0.2 in /usr/local/lib/python3.7/dist-packages (from requests<3.0.0dev,>=2.18.0->google-api-core[grpc]<3.0.0dev,>=1.26.0->google-cloud-speech) (3.0.4)\n",
            "Requirement already satisfied: mypy-extensions>=0.3.0 in /usr/local/lib/python3.7/dist-packages (from typing-inspect>=0.4.0->libcst>=0.2.5->google-cloud-speech) (0.4.3)\n",
            "Installing collected packages: google-cloud-speech\n",
            "Successfully installed google-cloud-speech-2.5.1\n"
          ],
          "name": "stdout"
        },
        {
          "output_type": "display_data",
          "data": {
            "application/vnd.colab-display-data+json": {
              "pip_warning": {
                "packages": [
                  "google"
                ]
              }
            }
          },
          "metadata": {
            "tags": []
          }
        }
      ]
    },
    {
      "cell_type": "code",
      "metadata": {
        "colab": {
          "base_uri": "https://localhost:8080/"
        },
        "id": "NstVe_aIyoUE",
        "outputId": "1592e0b3-535c-4dc0-aa4e-5a08c7152c3d"
      },
      "source": [
        "!pip install wave"
      ],
      "execution_count": null,
      "outputs": [
        {
          "output_type": "stream",
          "text": [
            "Requirement already satisfied: wave in /usr/local/lib/python3.7/dist-packages (0.0.2)\n"
          ],
          "name": "stdout"
        }
      ]
    },
    {
      "cell_type": "code",
      "metadata": {
        "id": "bcF5STYqiDOh"
      },
      "source": [
        "#Before running this code, please make sure JSON file silken-physics-308117-ed4e35c61a30.json in placed inside '/content/drive/MyDrive/Paleru_Khushi/JSON/' folder in the Drive.\n",
        "#This JSON file holds the credentials\n",
        "#set OS environment variable.\n",
        "import os\n",
        "os.environ['GOOGLE_APPLICATION_CREDENTIALS'] = '/content/drive/MyDrive/Paleru_Khushi/JSON/silken-physics-308117-ed4e35c61a30.json'"
      ],
      "execution_count": null,
      "outputs": []
    },
    {
      "cell_type": "code",
      "metadata": {
        "colab": {
          "base_uri": "https://localhost:8080/"
        },
        "id": "5swGA0uOjDN7",
        "outputId": "4c32369e-7f06-4ac2-a276-605bc4224130"
      },
      "source": [
        "import wave\n",
        "from google.cloud import speech_v1 as speech                         #for using google speech to text api\n",
        "\n",
        "\n",
        "def speech_to_text(config, audio):                                  #it will take configurations of speech and take audio file\n",
        "    client = speech.SpeechClient()                                  #identify the client \n",
        "    response = client.recognize(config=config, audio=audio)         #recognize the text in audio\n",
        "    print_sentences(response)                                       #calling other function to print the response\n",
        "\n",
        "\n",
        "def print_sentences(response):                                      #it will print the text that has been recived via speech to text\n",
        "    for result in response.results:         \n",
        "        best_alternative = result.alternatives[0]                   #for alternative words: ex. Four and for\n",
        "        transcript = best_alternative.transcript                    #using best alternative in transcrpit \n",
        "        print(f\"\\nTranscript: {transcript}\")                        #printing the transcript\n",
        "\n",
        "def channel(audio_file_name):                                       #for finding the channels in audio file (number of speakers)\n",
        "    with wave.open(audio_file_name, \"rb\") as wave_file:\n",
        "      channels = wave_file.getnchannels()\n",
        "      return channels\n",
        "\n",
        "\n",
        "for i in range(1,6):                                                #for using all audio files#optional to upload audios in drive\n",
        "  #optional to upload audios in drive\n",
        "  c = channel('/content/drive/MyDrive/Paleru_Khushi/Filler_words_audios/Person_um'+str(i)+'.wav')     #getting the number of channel to use in config\n",
        "\n",
        "  #we have to upload files in gs in order to work with google speech to text API\n",
        "  audio=speech.types.RecognitionAudio(uri=\"gs://speech_to_txt_khushi/Person_um\"+str(i)+\".wav\")        #getting audio file that has been uploaded in GCS\n",
        "\n",
        "  config = speech.RecognitionConfig(                                            #providing basic config\n",
        "      encoding=speech.RecognitionConfig.AudioEncoding.LINEAR16, \n",
        "      sample_rate_hertz=44100,\n",
        "      language_code=\"en-US\",\n",
        "      audio_channel_count=c,                                                  #number of channels\n",
        "  )\n",
        "  speech_to_text(config,audio)                                                  #callng the function to get text from speech"
      ],
      "execution_count": null,
      "outputs": [
        {
          "output_type": "stream",
          "text": [
            "\n",
            "Transcript: uses artificial intelligence to help me wings of people worldwide make their communication clear effective communication is key to both personal and professional success and so our mission is to improve lives by improving communication to help people articulate their thoughts in a way that's clear and effective in the way that makes them understood as intended\n",
            "\n",
            "Transcript: awesome thanks thanks for inviting me thanks for for having me I sort of have a single day fix that I'm completely obsessed with it and on on on the business side which is that if you're starting a company for the founder on Foreigner starting a company you always want to aim for Monopoly and and it and you want to always avoid competition and so hence our competition is for losers something will be talking about today\n",
            "\n",
            "Transcript: the way I like to think about it is that I'm not trying to maintain her or to maintain and the certainly scale present some challenges but also presents opportunities for example if you look at the infrastructure that we have now the kind of comes tationil facility now we want to run the kind of experiment that would have been inconceivable to anyone who years ago now we can get it done then you know a few hours time\n",
            "\n",
            "Transcript: I'd like to I'd like to start by saying something about the basic idea of when you start one of these companies how you go about creating value in this is question what makes a business valuable and I want to I want to suggest that there's basically a very simple very simple formula that if you have a valuable company two things are true number one that it creates X dollars a value for the world and number two that you capture wiper send a box\n",
            "\n",
            "Transcript: yes absolutely would have a very big and ambitious Vision to improve communication worldwide problem to solve and sell weed broken down into several steps started with then move to correcting Clarity and saw to improving Clarity and effectiveness of writing and in the future we anticipate predicting receivers reactions helping people with composition\n"
          ],
          "name": "stdout"
        }
      ]
    },
    {
      "cell_type": "code",
      "metadata": {
        "id": "3xI_ATKApDnR"
      },
      "source": [
        ""
      ],
      "execution_count": null,
      "outputs": []
    }
  ]
}