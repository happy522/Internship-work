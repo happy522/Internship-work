{
  "nbformat": 4,
  "nbformat_minor": 0,
  "metadata": {
    "colab": {
      "name": "Finding pitch and formant of filler word for a given start and end time",
      "provenance": [],
      "collapsed_sections": []
    },
    "kernelspec": {
      "name": "python3",
      "display_name": "Python 3"
    },
    "language_info": {
      "name": "python"
    }
  },
  "cells": [
    {
      "cell_type": "code",
      "metadata": {
        "id": "LiL6XpJlFm6d"
      },
      "source": [
        "# This code will find the pitch and formant of filler word from audio for a given start and end time\n",
        "#Inputs: audio files with .wav formate\n",
        "#Output: pitch, formant\n",
        "#Files this notebook refers: Docs inside '/content/drive/My Drive/Paleru_Khushi/Filler_words_audios/Person_um1.wav'\n",
        "#Author: Khushi Pitroda\n",
        "#Date: 9-July-2021"
      ],
      "execution_count": null,
      "outputs": []
    },
    {
      "cell_type": "code",
      "metadata": {
        "id": "jYSSpYHZF6oe"
      },
      "source": [
        "#Prerequisite\n",
        "#.Wav (audio) files with high and low volumes\n",
        "#parselmouth\n",
        "#timestamp - start and end point of filler word - I've refered 'https://colab.research.google.com/drive/1-MgFNKuhpHn7kyelb-i9_R5A4Hb3dQLr#scrollTo=aqIXw_MQmhrZ' for that timestamp"
      ],
      "execution_count": null,
      "outputs": []
    },
    {
      "cell_type": "code",
      "metadata": {
        "colab": {
          "base_uri": "https://localhost:8080/"
        },
        "id": "yaY75WPjwIM2",
        "outputId": "370d5b23-6503-425a-be87-eb5540a3170b"
      },
      "source": [
        "from google.colab import drive\n",
        "drive.mount('/content/drive')"
      ],
      "execution_count": null,
      "outputs": [
        {
          "output_type": "stream",
          "text": [
            "Mounted at /content/drive\n"
          ],
          "name": "stdout"
        }
      ]
    },
    {
      "cell_type": "code",
      "metadata": {
        "id": "QwqYxHjC16Ys"
      },
      "source": [
        "#Change directory \n",
        "#Go to shared with me folder create shortcut of shared folder and add it to the my drive so you can access that shared folder from here.\n",
        "\n",
        "import os \n",
        "os.chdir(\"/content/drive/MyDrive/Paleru_Khushi\")    \n"
      ],
      "execution_count": null,
      "outputs": []
    },
    {
      "cell_type": "code",
      "metadata": {
        "colab": {
          "base_uri": "https://localhost:8080/"
        },
        "id": "pxt2nGiz2Gsx",
        "outputId": "d3cb704f-3b33-430e-de07-1a910d262aa6"
      },
      "source": [
        "pip install praat-parselmouth"
      ],
      "execution_count": null,
      "outputs": [
        {
          "output_type": "stream",
          "text": [
            "Collecting praat-parselmouth\n",
            "  Downloading praat_parselmouth-0.4.0-cp37-cp37m-manylinux2010_x86_64.whl (10.7 MB)\n",
            "\u001b[K     |████████████████████████████████| 10.7 MB 4.4 MB/s \n",
            "\u001b[?25hRequirement already satisfied: numpy>=1.7.0 in /usr/local/lib/python3.7/dist-packages (from praat-parselmouth) (1.19.5)\n",
            "Installing collected packages: praat-parselmouth\n",
            "Successfully installed praat-parselmouth-0.4.0\n"
          ],
          "name": "stdout"
        }
      ]
    },
    {
      "cell_type": "code",
      "metadata": {
        "id": "AKwGGzFy2KW2"
      },
      "source": [
        "import parselmouth\n",
        "import numpy as np\n",
        "import matplotlib.pyplot as plt\n",
        "import seaborn as sns"
      ],
      "execution_count": null,
      "outputs": []
    },
    {
      "cell_type": "code",
      "metadata": {
        "colab": {
          "base_uri": "https://localhost:8080/",
          "height": 587
        },
        "id": "TwQJ7_Id2NCV",
        "outputId": "3f9eeec7-9abc-4d79-a081-742823d402de"
      },
      "source": [
        "snd = parselmouth.Sound('/content/drive/My Drive/Paleru_Khushi/Filler_words_audios/Person_um1.wav')  #loading the file\n",
        "from_time=27.22\n",
        "to_time=28.14\n",
        "snd_part = snd.extract_part(from_time,to_time, preserve_times=True)                          #extract part of audio where filler word occures\n",
        "\n",
        "pitch = snd_part.to_pitch()                 #finding pitch of that filler word\n",
        "\n",
        "def draw_pitch(pitch):                      #draw graph of found pitch\n",
        "  # Extract selected pitch contour, and\n",
        "  # replace unvoiced samples by NaN to not plot\n",
        "  pitch_values = pitch.selected_array['frequency']\n",
        "  print(\"With zero - average pitch: \" + str(sum(pitch_values)/len(pitch_values))+\" Hz\")       #value pitch including zero\n",
        "  pitch_values[pitch_values==0] = np.nan\n",
        "  plt.plot(pitch.xs(), pitch_values, 'o', markersize=5, color='w')\n",
        "  plt.plot(pitch.xs(), pitch_values, 'o', markersize=2)\n",
        "  plt.grid(False)\n",
        "  plt.margins(x=0.1)\n",
        "  plt.xlabel(\"time [s]\")\n",
        "  plt.ylim(0, pitch.ceiling)\n",
        "  plt.ylabel(\"fundamental frequency [Hz]\")\n",
        "\n",
        "draw_pitch(pitch)\n",
        "\n",
        "pitch_values = pitch.selected_array['frequency']\n",
        "\n",
        "y=0   #variable sum of pitch_values which are non-zero\n",
        "x=0   #for track of total non-zero pitch values\n",
        "for i in pitch_values:\n",
        "    if(i!=0):\n",
        "      x = x + 1       \n",
        "      y = y + i\n",
        "\n",
        "\n",
        "print(\"Without zero - average pitch: \" + str(y/x) + \" Hz\")\n",
        "\n",
        "hop_dur = .01   #predefined value for time step\n",
        "num_form = 4    #predefined value for max number of formants = the number of peaks with which the entire spectrum is modelled\n",
        "max_form_freq = 4500    #predefined value for maximum formant\n",
        "\n",
        "form = snd_part.to_formant_burg(time_step=hop_dur, max_number_of_formants=num_form, maximum_formant = max_form_freq, pre_emphasis_from=50.0)\n",
        "\n",
        "\n",
        "times = pitch.ts()\n",
        "\n",
        "\n",
        "form_1_vals = []  #list for storing audio's f1\n",
        "form_2_vals = []  #list for storing audio's f2\n",
        "form_3_vals = []  #list for storing audio's f3\n",
        "form_4_vals = []  #list for storing audio's f4\n",
        "\n",
        "\n",
        "for dt in times:      #for loop used with average of time instants\n",
        "    form_1_vals.append(form.get_value_at_time(1,dt))    #storing the values of F1 audio in list\n",
        "    form_2_vals.append(form.get_value_at_time(2,dt))    #storing the values of F2 audio in list\n",
        "    form_3_vals.append(form.get_value_at_time(3,dt))    #storing the values of F3 audio in list\n",
        "    form_4_vals.append(form.get_value_at_time(4,dt))    #storing the values of F4 audio in list\n",
        "print(form_1_vals)\n",
        "print(form_2_vals)\n",
        "print(times)\n",
        "#for graph of formants\n",
        "form_vals = [form_1_vals,form_2_vals,form_3_vals,form_4_vals]\n",
        "\n",
        "plt.title('Formants')\n",
        "plt.plot(times,form_1_vals,label = \"F1\")\n",
        "plt.plot(times,form_2_vals,label = \"F2\")\n",
        "plt.plot(times,form_3_vals,label = \"F3\")\n",
        "plt.plot(times,form_4_vals,label = \"F4\")\n",
        "plt.xlabel(\"time [s]\")\n",
        "\n",
        "plt.ylabel(\"Formants\")\n",
        "plt.legend()\n",
        "plt.show()\n",
        "\n",
        "'''\n",
        "x=1\n",
        "for i in form_vals:\n",
        "  print(\"\\n--------------------------F\"+str(x)+\"--------------------------\")\n",
        "  plt.plot(times,i)\n",
        "  plt.ylabel(\"F\"+str(x))\n",
        "  plt.xlabel(\"time [s]\")\n",
        "  plt.show()\n",
        "  x=x+1'''\n",
        "\n",
        "#for printing average formant values\n",
        "cleanedList1 = [x for x in form_1_vals if str(x) != 'nan']     #discarding null values from the list for audio's f1 list\n",
        "print(\"F1: \"+str(sum(cleanedList1)/len(cleanedList1))+ \" Hz\")     #printing the average of value of F1 from given list for audio\n",
        "\n",
        "cleanedList2 = [x for x in form_2_vals if str(x) != 'nan']      #discarding null values from the list for audio's f2 list\n",
        "print(\"F2: \"+str(sum(cleanedList2)/len(cleanedList2))+ \" Hz\")   #printing the average of value of F2 from given list for audio\n",
        "\n",
        "cleanedList3 = [x for x in form_3_vals if str(x) != 'nan']      #discarding null values from the list for audio's f3 list\n",
        "print(\"F3: \"+str(sum(cleanedList3)/len(cleanedList3))+ \" Hz\")   #printing the average of value of F3 from given list for audio\n",
        "\n",
        "cleanedList4 = [x for x in form_4_vals if str(x) != 'nan']      #discarding null values from the list for audioe's f4 list\n",
        "print(\"F4: \"+str(sum(cleanedList4)/len(cleanedList4))+ \" Hz\")   #printing the average of value of F4 from given list for audio\n"
      ],
      "execution_count": null,
      "outputs": [
        {
          "output_type": "stream",
          "text": [
            "With zero - average pitch: 46.53247766342475 Hz\n",
            "Without zero - average pitch: 129.41845350140008 Hz\n",
            "[285.83174117248524, 283.79657700535233, 375.6001101664721, 534.129461792985, 618.3500683181569, 649.282774875461, 688.2226275905742, 731.9275026986733, 757.6449902585151, 774.0534178188518, 772.972364362894, 773.6497076303364, 769.4548939800962, 764.7754623218887, 767.8436963648747, 767.547256616571, 761.7307639991354, 754.9516967685535, 757.1013298285887, 739.4599515909181, 723.9862102502923, 722.220409736307, 707.2428744492217, 693.788814111588, 675.7055104546168, 636.5897061831859, 602.371590169861, 541.4710923856461, 415.1434657661299, 320.84643363831674, 298.4466620815509, 328.57436178439525, 370.3191564143012, 341.4840500994107, 879.8727346755394, 1042.419694022537, 698.7163733731281, 745.6338795080399, 858.5642932112653, 1360.1397547591305, 1693.4444935569281, 1307.800407656259, 980.5612284822289, 1343.9049493166303, 1752.396207746526, 1257.0529141858883, 786.7570422713989, 1281.9217337650764, 1231.0133148522882, 662.9512403320448, 557.1312952846297, 588.6184407090437, 621.4998730481848, 645.2127483740529, 685.4841916524077, 712.0437773425161, 716.1451649182876, 722.615259709534, 729.5575486189082, 722.2320941174854, 711.5356369225568, 723.8098179678909, 740.2875790240226, 731.0810071496512, 720.1739229639026, 726.9918785710221, 719.7615586727736, 728.5640498601045, 727.2085680707464, 705.6177946970599, 693.0688013654265, 678.7088895883317, 671.0222364597995, 733.7898545698862, 700.9864999972854, 699.7773702645405, 692.1697104465493, 445.7299792387047, 407.03784506160196, 593.3557066700503, 691.3212972788434, 463.78487029549444, 238.33421036569507, 256.5462735170667, 307.0907225626391, 358.42536390799825, 353.9712233517359, 390.0542651554121, nan]\n",
            "[1699.2229396200435, 1588.7573162441497, 1500.4555087713716, 1544.567360184365, 1573.1715401091674, 1569.7007355835276, 1543.8774860702358, 1512.1535786458755, 1488.406005196965, 1483.1769138419832, 1476.4392504264908, 1455.2232690071676, 1436.2599267519345, 1449.0770435118188, 1467.2987339136391, 1460.8165789957393, 1449.8723416183682, 1450.0602885945916, 1472.2430387988543, 1475.1361576896968, 1458.7704128545586, 1463.0315834539567, 1468.3659697893922, 1472.4293623697467, 1484.388223434455, 1499.5519847962028, 1506.5051011546573, 1508.7040887871194, 1512.819606507344, 1483.1328316476793, 1481.8266199741067, 1485.8483135968634, 1561.4391141629549, 1701.2384876629717, 1709.9716192285834, 1702.4444607458656, 1865.2671758569459, 1922.182665901584, 1867.4637574586372, 2698.7214064178756, 3113.5539274246776, 2286.794599448072, 1846.4471819840408, 2189.5762207144367, 2241.8043897508333, 1820.7259918091884, 1732.4758988968083, 2651.786162944149, 2592.1910211003183, 1638.0230638270943, 1564.8725413123555, 1505.7231650267456, 1506.502461096767, 1510.5558210645918, 1523.720307429294, 1495.0235467937343, 1462.9787845617639, 1449.766443121976, 1423.0556378257572, 1384.6120309152275, 1353.6688579413653, 1337.6664997189664, 1302.681111775651, 1278.1185989426638, 1298.6267853463874, 1284.2267298689978, 1232.2551984579247, 1218.2670362959516, 1207.1044856843987, 1169.365875448761, 1148.595704049126, 1128.8149577108566, 1095.0579921157992, 996.5428202390368, 836.5286247981858, 1491.542954587167, 2246.8389080067286, 2119.2389376481883, 2161.313087093406, 2370.1469994563085, 2360.096198514181, 1856.6019207308213, 1849.2560822883904, 1992.5306263571915, 2007.8443078624152, 2074.4849607929546, 1730.7584659803001, 1739.8210295938807, nan]\n",
            "[27.24 27.25 27.26 27.27 27.28 27.29 27.3  27.31 27.32 27.33 27.34 27.35\n",
            " 27.36 27.37 27.38 27.39 27.4  27.41 27.42 27.43 27.44 27.45 27.46 27.47\n",
            " 27.48 27.49 27.5  27.51 27.52 27.53 27.54 27.55 27.56 27.57 27.58 27.59\n",
            " 27.6  27.61 27.62 27.63 27.64 27.65 27.66 27.67 27.68 27.69 27.7  27.71\n",
            " 27.72 27.73 27.74 27.75 27.76 27.77 27.78 27.79 27.8  27.81 27.82 27.83\n",
            " 27.84 27.85 27.86 27.87 27.88 27.89 27.9  27.91 27.92 27.93 27.94 27.95\n",
            " 27.96 27.97 27.98 27.99 28.   28.01 28.02 28.03 28.04 28.05 28.06 28.07\n",
            " 28.08 28.09 28.1  28.11 28.12]\n"
          ],
          "name": "stdout"
        },
        {
          "output_type": "display_data",
          "data": {
            "image/png": "[encoded data removed]",
            "text/plain": [
              "<Figure size 432x288 with 1 Axes>"
            ]
          },
          "metadata": {
            "tags": [],
            "needs_background": "light"
          }
        },
        {
          "output_type": "stream",
          "text": [
            "F1: 703.413799115602 Hz\n",
            "F2: 1633.8432244742194 Hz\n",
            "F3: 2895.75600751683 Hz\n",
            "F4: 3562.122850019659 Hz\n"
          ],
          "name": "stdout"
        }
      ]
    },
    {
      "cell_type": "code",
      "metadata": {
        "id": "vkBf3m_M_8Hc"
      },
      "source": [
        ""
      ],
      "execution_count": null,
      "outputs": []
    }
  ]
}