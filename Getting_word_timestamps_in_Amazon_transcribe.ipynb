{
  "nbformat": 4,
  "nbformat_minor": 0,
  "metadata": {
    "colab": {
      "name": "Getting word timestamps in Amazon transcribe",
      "provenance": [],
      "collapsed_sections": []
    },
    "kernelspec": {
      "name": "python3",
      "display_name": "Python 3"
    },
    "language_info": {
      "name": "python"
    }
  },
  "cells": [
    {
      "cell_type": "code",
      "metadata": {
        "id": "TxoJXp-gmFJq"
      },
      "source": [
        "#This code checks whether Amazon transcribe(speech to text API) can give word timestamps or not.\n",
        "#Inputs: audio files- wav file from google drive(/content/drive/My Drive/Paleru_Khushi/Filler_words_audios/) ,Json file containing transcript of audio, you can get it after uploading audios in s3\n",
        "#Output:Time stamps\n",
        "#Conclusion: AWS provides timestamps along with transcripts.\n",
        "#Files this notebook refers: Docs inside '/content/drive/My Drive/Paleru_Khushi/Filler_words_audios/' and '/content/drive/MyDrive/Paleru_Khushi/JSON/ '\n",
        "#see \"https://aws.amazon.com/getting-started/hands-on/create-audio-transcript-transcribe/\" for information how to get .json file.\n",
        "#Note: Json file which contains credentials to Amazon transcribe is required to use Amazon transcribe(Speech to text API) and get asrOutput.json file uploading audio file on bucket.\n",
        "#Things required for Developer: Developer has to be given a new user, password to access Amazon AWS. This user has to be given neccessary permission.\n",
        "#Author: Khushi Pitroda\n",
        "#Date:8-July-2021"
      ],
      "execution_count": null,
      "outputs": []
    },
    {
      "cell_type": "code",
      "metadata": {
        "colab": {
          "base_uri": "https://localhost:8080/"
        },
        "id": "87ufSVp1mWHD",
        "outputId": "a4de8523-9fd9-4741-86df-b5d583ff8f77"
      },
      "source": [
        "from google.colab import drive\n",
        "drive.mount('/content/drive')\n"
      ],
      "execution_count": null,
      "outputs": [
        {
          "output_type": "stream",
          "text": [
            "Mounted at /content/drive\n"
          ],
          "name": "stdout"
        }
      ]
    },
    {
      "cell_type": "code",
      "metadata": {
        "id": "kwLhhSjUmdzF"
      },
      "source": [
        "#Change directory \n",
        "#Go to shared with me folder create shortcut of shared folder and add it to the my drive so you can access that shared folder from here.\n",
        "\n",
        "import os \n",
        "os.chdir(\"/content/drive/MyDrive/Paleru_Khushi\")    "
      ],
      "execution_count": null,
      "outputs": []
    },
    {
      "cell_type": "code",
      "metadata": {
        "id": "AT9T_AMbmf5p"
      },
      "source": [
        "import json         #for reading json files"
      ],
      "execution_count": null,
      "outputs": []
    },
    {
      "cell_type": "code",
      "metadata": {
        "colab": {
          "base_uri": "https://localhost:8080/"
        },
        "id": "aqIXw_MQmhrZ",
        "outputId": "29513ac0-ff18-4f2a-de5f-7d2c6287b1b0"
      },
      "source": [
        "#Before running this code, make sure the JSON file asrOutput.json is placed in the folder in the drive\n",
        "#Make sure you have uploaded the audio file in AWS and dowloaded the JSON file in advance.\n",
        "#Produces the transcript of the audio file\n",
        "\n",
        "from operator import itemgetter           #for mapping\n",
        "   \n",
        "f = open(\"/content/drive/MyDrive/Paleru_Khushi/Main_audios_for_testing_Json/asrOutput4.json\")           #create json file by uploading audio files (https://aws.amazon.com/getting-started/hands-on/create-audio-transcript-transcribe/)\n",
        "\n",
        "data = json.load(f)\n",
        "                             #dictonary containing all information \n",
        "x = data['results'] ['items']         #fetch result(keyname) from data and from result(sub-dictonary) fetch transcripts stores in list named x  \n",
        "#print(x)\n",
        "\n",
        "for i in range(1,len(x)):             #for getting each single word, start_time and start_time from the list\n",
        "  start_time = 0                      #initial value\n",
        "  end_time = 0                        #initial value\n",
        "  word = x[i]['alternatives'][0]['content']         #get the word- content from dictonary inside the list inside the dicrtonary named alternatives which is inside the list x. print(x) for more understanding.\n",
        "  if word!='.' and word!=',' and word!='?':                       #punctuation doesn't have timestamps so ignoring it\n",
        "    start_time = x[i]['start_time']                 #from list getting value of start_time for each word- content\n",
        "    end_time = x[i]['end_time']                     #from list getting value of end_time for each word- content\n",
        "  if word == 'Uh' or word =='um' or word =='Um' or word =='uh':\n",
        "    print(f\"\\nWord: {word}, start_time: {start_time}, end_time: {end_time}\")        #printing all the values"
      ],
      "execution_count": null,
      "outputs": [
        {
          "output_type": "stream",
          "text": [
            "\n",
            "Word: Uh, start_time: 129.16, end_time: 130.13\n",
            "\n",
            "Word: uh, start_time: 390.85, end_time: 391.54\n",
            "\n",
            "Word: uh, start_time: 472.7, end_time: 473.36\n"
          ],
          "name": "stdout"
        }
      ]
    },
    {
      "cell_type": "code",
      "metadata": {
        "id": "od9xZa7esiQs"
      },
      "source": [
        ""
      ],
      "execution_count": null,
      "outputs": []
    }
  ]
}