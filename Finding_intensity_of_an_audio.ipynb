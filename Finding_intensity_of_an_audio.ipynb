{
  "nbformat": 4,
  "nbformat_minor": 0,
  "metadata": {
    "colab": {
      "name": "Finding intensity of an audio",
      "provenance": [],
      "collapsed_sections": []
    },
    "kernelspec": {
      "name": "python3",
      "display_name": "Python 3"
    },
    "language_info": {
      "name": "python"
    }
  },
  "cells": [
    {
      "cell_type": "code",
      "metadata": {
        "id": "M62zeDI_itn3"
      },
      "source": [
        "#This code will check whether the audio has a higher or lower average intensity than a particular value(threshold value)find the intensity of the audio. I've used parsel-mouth to find the intensity of audio. If it's average intensity is higher than 61.54017083 (taken Threshold intensity value from previous Colab file(Parselmouth-finding intensity)), it would have higher than the average intensity and vice-versa.\n",
        "#Inputs: audio files with .wav formate\n",
        "#Output: find whether audio has higher or low intensity than threashold intensity\n",
        "#Threshold avg_intensity is set to 61.54017083.  \n",
        "\n",
        "#Files this notebook refers: Docs inside '/content/drive/My Drive/Paleru_Khushi/'\n",
        "#Author: Khushi Pitroda\n",
        "#Date: 2-July-2021"
      ],
      "execution_count": null,
      "outputs": []
    },
    {
      "cell_type": "code",
      "metadata": {
        "id": "K16LcQfij2RH"
      },
      "source": [
        "#Prerequisite\n",
        "#.Wav (audio) files with high and low volumes\n",
        "#parselmouth\n",
        "#avg_intensity is taken from file name \"Finding Threshold intensity value\", \"https://colab.research.google.com/drive/1Qx8xcxj4rlHPKoAfan94p2iECEd_PBzg#scrollTo=lmu2yfcFsVri\""
      ],
      "execution_count": null,
      "outputs": []
    },
    {
      "cell_type": "code",
      "metadata": {
        "colab": {
          "base_uri": "https://localhost:8080/"
        },
        "id": "TZSBkK9j9cl9",
        "outputId": "58542eec-a4ab-4fef-ad30-6c0fd226717c"
      },
      "source": [
        "pip install praat-parselmouth"
      ],
      "execution_count": null,
      "outputs": [
        {
          "output_type": "stream",
          "name": "stdout",
          "text": [
            "Collecting praat-parselmouth\n",
            "  Downloading praat_parselmouth-0.4.0-cp37-cp37m-manylinux2010_x86_64.whl (10.7 MB)\n",
            "\u001b[K     |████████████████████████████████| 10.7 MB 4.5 MB/s \n",
            "\u001b[?25hRequirement already satisfied: numpy>=1.7.0 in /usr/local/lib/python3.7/dist-packages (from praat-parselmouth) (1.19.5)\n",
            "Installing collected packages: praat-parselmouth\n",
            "Successfully installed praat-parselmouth-0.4.0\n"
          ]
        }
      ]
    },
    {
      "cell_type": "code",
      "metadata": {
        "id": "2QEyPqp19ldP"
      },
      "source": [
        "import parselmouth\n",
        "import numpy as np\n",
        "import matplotlib.pyplot as plt\n",
        "import seaborn as sns"
      ],
      "execution_count": null,
      "outputs": []
    },
    {
      "cell_type": "code",
      "metadata": {
        "colab": {
          "base_uri": "https://localhost:8080/"
        },
        "id": "VpzMNWs99n86",
        "outputId": "86f8ddf0-a23d-431c-c3a0-24dde68bbca3"
      },
      "source": [
        "from google.colab import drive\n",
        "drive.mount(\"/content/drive\")"
      ],
      "execution_count": null,
      "outputs": [
        {
          "output_type": "stream",
          "name": "stdout",
          "text": [
            "Mounted at /content/drive\n"
          ]
        }
      ]
    },
    {
      "cell_type": "code",
      "metadata": {
        "id": "K_RFjYeJAI3B"
      },
      "source": [
        "#Change directory \n",
        "#Go to shared with me folder create shortcut of shared folder and add it to the my drive\n",
        "\n",
        "import os \n",
        "os.chdir(\"/content/drive/MyDrive/Paleru_Khushi\")"
      ],
      "execution_count": null,
      "outputs": []
    },
    {
      "cell_type": "code",
      "metadata": {
        "colab": {
          "base_uri": "https://localhost:8080/"
        },
        "id": "xtjtjFLV9w2h",
        "outputId": "010bb2ef-de51-41a1-bcb9-be03d078a7d8"
      },
      "source": [
        "#This code block will indicate whether the given speech is of high volume or low volume.\n",
        "#we have taken the average intensity value as 61.54017083 Db\n",
        "\n",
        "#Enter the location of the audio file.\n",
        "#avg_intensity is taken from file name \"Finding Threshold intensity value\", \"https://colab.research.google.com/drive/1Qx8xcxj4rlHPKoAfan94p2iECEd_PBzg#scrollTo=lmu2yfcFsVri\"\n",
        "\n",
        "avg_intensity = 61.54017083\n",
        "\n",
        "snd = parselmouth.Sound(\"/content/drive/My Drive/Paleru_Khushi/Filler_words_audios/Person_um1.wav\")\n",
        "\n",
        "intensity = snd.to_intensity()\n",
        "intensity_list = intensity.values.T\n",
        "\n",
        "final_intensity = sum(intensity_list)/len(intensity_list)\n",
        "\n",
        "#Checking whether the intensity of the given audio is lower or higher than our standerd intensity thrashold.\n",
        "if final_intensity > avg_intensity:\n",
        "    print(\"Intensity of the audio is \" + str(final_intensity) +\" higher than the average intensity.\")\n",
        "else:\n",
        "    print(\"Intensity of the audio is \" + str(final_intensity)+\" lower than the average intensity.\")"
      ],
      "execution_count": null,
      "outputs": [
        {
          "output_type": "stream",
          "name": "stdout",
          "text": [
            "Intensity of the audio is [64.99103615] higher than the average intensity.\n"
          ]
        }
      ]
    },
    {
      "cell_type": "markdown",
      "metadata": {
        "id": "9M8-so8o-4we"
      },
      "source": [
        "# New Section"
      ]
    },
    {
      "cell_type": "markdown",
      "metadata": {
        "id": "KdhyTxdI-5Qg"
      },
      "source": [
        "# New Section"
      ]
    },
    {
      "cell_type": "code",
      "metadata": {
        "id": "oia_ufVq9q6p"
      },
      "source": [
        ""
      ],
      "execution_count": null,
      "outputs": []
    }
  ]
}