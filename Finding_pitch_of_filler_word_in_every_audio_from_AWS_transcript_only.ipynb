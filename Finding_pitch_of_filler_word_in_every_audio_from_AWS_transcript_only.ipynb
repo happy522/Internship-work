{
  "nbformat": 4,
  "nbformat_minor": 0,
  "metadata": {
    "colab": {
      "name": "Finding pitch of filler word in every audio from AWS transcript only",
      "provenance": [],
      "collapsed_sections": []
    },
    "kernelspec": {
      "name": "python3",
      "display_name": "Python 3"
    },
    "language_info": {
      "name": "python"
    }
  },
  "cells": [
    {
      "cell_type": "code",
      "metadata": {
        "id": "LiL6XpJlFm6d"
      },
      "source": [
        "# This code will find the pitch and formant of filler word from audio from AWS transcript only.\n",
        "# Note: It is  not trying to find filler sounds using audio analysis.\n",
        "#Inputs: audio files with .wav formate\n",
        "#Output: pitch, formant\n",
        "#Files this notebook refers: Docs inside '/content/drive/My Drive/Paleru_Khushi/Filler_words_audios/Person_um1.wav'\n",
        "#Author: Khushi Pitroda\n",
        "#Date: 9-July-2021"
      ],
      "execution_count": null,
      "outputs": []
    },
    {
      "cell_type": "code",
      "metadata": {
        "id": "jYSSpYHZF6oe"
      },
      "source": [
        "#Prerequisite\n",
        "#.Wav (audio) files with high and low volumes\n",
        "#parselmouth\n",
        "#timestamp - start and end point of filler word "
      ],
      "execution_count": null,
      "outputs": []
    },
    {
      "cell_type": "code",
      "metadata": {
        "colab": {
          "base_uri": "https://localhost:8080/"
        },
        "id": "yaY75WPjwIM2",
        "outputId": "302cc027-7be9-4d0d-892a-6194bf439f04"
      },
      "source": [
        "from google.colab import drive\n",
        "drive.mount('/content/drive')"
      ],
      "execution_count": null,
      "outputs": [
        {
          "output_type": "stream",
          "text": [
            "Mounted at /content/drive\n"
          ],
          "name": "stdout"
        }
      ]
    },
    {
      "cell_type": "code",
      "metadata": {
        "id": "QwqYxHjC16Ys"
      },
      "source": [
        "#Change directory \n",
        "#Go to shared with me folder create shortcut of shared folder and add it to the my drive so you can access that shared folder from here.\n",
        "\n",
        "import os \n",
        "os.chdir(\"/content/drive/MyDrive/Paleru_Khushi\")    \n"
      ],
      "execution_count": null,
      "outputs": []
    },
    {
      "cell_type": "code",
      "metadata": {
        "id": "vYxurxZod-PO"
      },
      "source": [
        "import json         #for reading json files"
      ],
      "execution_count": null,
      "outputs": []
    },
    {
      "cell_type": "code",
      "metadata": {
        "colab": {
          "base_uri": "https://localhost:8080/"
        },
        "id": "pxt2nGiz2Gsx",
        "outputId": "67a3705f-9c96-4fc1-e7b9-d938ec020c97"
      },
      "source": [
        "pip install praat-parselmouth"
      ],
      "execution_count": null,
      "outputs": [
        {
          "output_type": "stream",
          "text": [
            "Collecting praat-parselmouth\n",
            "  Downloading praat_parselmouth-0.4.0-cp37-cp37m-manylinux2010_x86_64.whl (10.7 MB)\n",
            "\u001b[K     |████████████████████████████████| 10.7 MB 14.6 MB/s \n",
            "\u001b[?25hRequirement already satisfied: numpy>=1.7.0 in /usr/local/lib/python3.7/dist-packages (from praat-parselmouth) (1.19.5)\n",
            "Installing collected packages: praat-parselmouth\n",
            "Successfully installed praat-parselmouth-0.4.0\n"
          ],
          "name": "stdout"
        }
      ]
    },
    {
      "cell_type": "code",
      "metadata": {
        "id": "AKwGGzFy2KW2"
      },
      "source": [
        "import parselmouth\n",
        "import numpy as np\n",
        "import matplotlib.pyplot as plt\n",
        "import seaborn as sns"
      ],
      "execution_count": null,
      "outputs": []
    },
    {
      "cell_type": "code",
      "metadata": {
        "id": "l2RhsLm59hy3"
      },
      "source": [
        ""
      ],
      "execution_count": null,
      "outputs": []
    },
    {
      "cell_type": "code",
      "metadata": {
        "colab": {
          "base_uri": "https://localhost:8080/",
          "height": 877
        },
        "id": "XriP0h2teFlI",
        "outputId": "6d3c9946-8058-4abc-9a3d-c042752be7a2"
      },
      "source": [
        "from operator import itemgetter           #for mapping\n",
        "pitch_all = []\n",
        "for i in range(1,6):\n",
        "  f = open(\"/content/drive/MyDrive/Paleru_Khushi/JSON/asrOutput\"+str(i)+\".json\")           #create json file by uploading audio files (https://aws.amazon.com/getting-started/hands-on/create-audio-transcript-transcribe/)\n",
        "\n",
        "  data = json.load(f)\n",
        "                              #dictonary containing all information \n",
        "  x = data['results'] ['items']         #fetch result(keyname) from data and from result(sub-dictonary) fetch transcripts stores in list named x  \n",
        "  #print(x)\n",
        "  print(f\"\\n=================Audio: {i}=================\")\n",
        "  for j in range(1,len(x)):             #for getting each single word, start_time and start_time from the list\n",
        "    start_time = 0                      #initial value\n",
        "    end_time = 0                        #initial value\n",
        "    word = x[j]['alternatives'][0]['content']         #get the word- content from dictonary inside the list inside the dicrtonary named alternatives which is inside the list x. print(x) for more understanding.\n",
        "    if word!='.' and word!=',' and (word==\"um\" or word==\"uh\"):                       #punctuation doesn't have timestamps so ignoring it and only finding filler words\n",
        "      start_time = x[j]['start_time']                 #from list getting value of start_time for each word- content\n",
        "      end_time = x[j]['end_time']                     #from list getting value of end_time for each word- content\n",
        "      total_time = float(end_time) - float(start_time)\n",
        "      print(f\"\\nWord: {word}, start_time: {start_time}, end_time: {end_time},Total_time: {total_time}\")        #printing all the values\n",
        "      #print(f\"from_time={start_time}\\nto_time={end_time}\")\n",
        "      snd = parselmouth.Sound('/content/drive/My Drive/Paleru_Khushi/Filler_words_audios/Person_um'+str(i)+'.wav')  #loading the file\n",
        "      snd_part = snd.extract_part(from_time=float(start_time),to_time=float(end_time), preserve_times=True)                          #extract part of audio where filler word occures\n",
        "\n",
        "      pitch = snd_part.to_pitch()                 #finding pitch of that filler word\n",
        "      # Extract selected pitch contour, and\n",
        "      # replace unvoiced samples by NaN to not plot\n",
        "      pitch_values = pitch.selected_array['frequency']\n",
        "      pitch_all.append(pitch_values)\n",
        "      \n",
        "      \n",
        "            \n",
        "for i in range(1,len(pitch_all)):\n",
        "  plt.plot(pitch_all[i])\n"
      ],
      "execution_count": null,
      "outputs": [
        {
          "output_type": "stream",
          "text": [
            "\n",
            "=================Audio: 1=================\n",
            "\n",
            "Word: um, start_time: 20.29, end_time: 20.83,Total_time: 0.5399999999999991\n",
            "\n",
            "=================Audio: 2=================\n",
            "\n",
            "Word: um, start_time: 12.21, end_time: 12.63,Total_time: 0.41999999999999993\n",
            "\n",
            "Word: uh, start_time: 23.48, end_time: 23.95,Total_time: 0.46999999999999886\n",
            "\n",
            "Word: uh, start_time: 27.33, end_time: 27.66,Total_time: 0.33000000000000185\n",
            "\n",
            "=================Audio: 3=================\n",
            "\n",
            "Word: uh, start_time: 2.94, end_time: 4.15,Total_time: 1.2100000000000004\n",
            "\n",
            "Word: uh, start_time: 19.65, end_time: 20.22,Total_time: 0.5700000000000003\n",
            "\n",
            "Word: uh, start_time: 24.23, end_time: 24.75,Total_time: 0.5199999999999996\n",
            "\n",
            "=================Audio: 4=================\n",
            "\n",
            "Word: um, start_time: 6.94, end_time: 7.56,Total_time: 0.6199999999999992\n",
            "\n",
            "Word: um, start_time: 24.24, end_time: 24.59,Total_time: 0.3500000000000014\n",
            "\n",
            "=================Audio: 5=================\n",
            "\n",
            "Word: uh, start_time: 7.79, end_time: 8.86,Total_time: 1.0699999999999994\n",
            "\n",
            "Word: uh, start_time: 21.14, end_time: 21.61,Total_time: 0.46999999999999886\n",
            "\n",
            "Word: um, start_time: 29.06, end_time: 29.71,Total_time: 0.6500000000000021\n",
            "\n",
            "Word: um, start_time: 32.4, end_time: 33.15,Total_time: 0.75\n"
          ],
          "name": "stdout"
        },
        {
          "output_type": "display_data",
          "data": {
            "image/png": "[encoded data removed]",
            "text/plain": [
              "<Figure size 432x288 with 1 Axes>"
            ]
          },
          "metadata": {
            "tags": [],
            "needs_background": "light"
          }
        }
      ]
    },
    {
      "cell_type": "code",
      "metadata": {
        "id": "vkBf3m_M_8Hc"
      },
      "source": [
        ""
      ],
      "execution_count": null,
      "outputs": []
    },
    {
      "cell_type": "code",
      "metadata": {
        "id": "sYeR7wSFOUxF"
      },
      "source": [
        ""
      ],
      "execution_count": null,
      "outputs": []
    }
  ]
}