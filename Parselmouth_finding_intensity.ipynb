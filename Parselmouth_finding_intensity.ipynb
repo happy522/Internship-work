{
  "nbformat": 4,
  "nbformat_minor": 0,
  "metadata": {
    "colab": {
      "name": "Parselmouth-finding intensity",
      "provenance": [],
      "collapsed_sections": []
    },
    "kernelspec": {
      "name": "python3",
      "display_name": "Python 3"
    },
    "language_info": {
      "name": "python"
    }
  },
  "cells": [
    {
      "cell_type": "code",
      "metadata": {
        "id": "NInij2aihmiq"
      },
      "source": [
        "#This code will find intensity of audio, I've used parsel-mouth library for it. \n",
        "#There are separate code block which will create intensity graph for individual audio and for set of audio  files.\n",
        "#Inputs: audio files with high and low volume \n",
        "#Output: threshold value of intensity\n",
        "#Files this notebook refers: Audio files inside '/content/drive/My Drive/Paleru_Khushi/Audio'\n",
        "#Author: Khushi Pitroda\n",
        "#Date: 5-July-2021"
      ],
      "execution_count": null,
      "outputs": []
    },
    {
      "cell_type": "code",
      "metadata": {
        "id": "AcsIMhoKiOHC"
      },
      "source": [
        "#Prerequisite\n",
        "#.Wav (audio) files with high and low volumes\n",
        "#parselmouth"
      ],
      "execution_count": null,
      "outputs": []
    },
    {
      "cell_type": "code",
      "metadata": {
        "colab": {
          "base_uri": "https://localhost:8080/"
        },
        "id": "olgKMwnNuKBg",
        "outputId": "6453470e-73a7-4718-ddad-1eee4800948c"
      },
      "source": [
        "pip install praat-parselmouth"
      ],
      "execution_count": null,
      "outputs": [
        {
          "output_type": "stream",
          "name": "stdout",
          "text": [
            "Collecting praat-parselmouth\n",
            "  Downloading praat_parselmouth-0.4.0-cp37-cp37m-manylinux2010_x86_64.whl (10.7 MB)\n",
            "\u001b[K     |████████████████████████████████| 10.7 MB 10.4 MB/s \n",
            "\u001b[?25hRequirement already satisfied: numpy>=1.7.0 in /usr/local/lib/python3.7/dist-packages (from praat-parselmouth) (1.19.5)\n",
            "Installing collected packages: praat-parselmouth\n",
            "Successfully installed praat-parselmouth-0.4.0\n"
          ]
        }
      ]
    },
    {
      "cell_type": "code",
      "metadata": {
        "id": "QECmdvlD9MVO",
        "colab": {
          "base_uri": "https://localhost:8080/",
          "height": 351
        },
        "outputId": "1694615a-1b7d-4888-ca57-cacad3627004"
      },
      "source": [
        "import parselmouth\n",
        "import numpy as np\n",
        "import matplotlib.pyplot as plt\n",
        "import seaborn as sns"
      ],
      "execution_count": null,
      "outputs": [
        {
          "output_type": "error",
          "ename": "ModuleNotFoundError",
          "evalue": "ignored",
          "traceback": [
            "\u001b[0;31m---------------------------------------------------------------------------\u001b[0m",
            "\u001b[0;31mModuleNotFoundError\u001b[0m                       Traceback (most recent call last)",
            "\u001b[0;32m<ipython-input-2-f3bcb56c0196>\u001b[0m in \u001b[0;36m<module>\u001b[0;34m()\u001b[0m\n\u001b[0;32m----> 1\u001b[0;31m \u001b[0;32mimport\u001b[0m \u001b[0mparselmouth\u001b[0m\u001b[0;34m\u001b[0m\u001b[0;34m\u001b[0m\u001b[0m\n\u001b[0m\u001b[1;32m      2\u001b[0m \u001b[0;32mimport\u001b[0m \u001b[0mnumpy\u001b[0m \u001b[0;32mas\u001b[0m \u001b[0mnp\u001b[0m\u001b[0;34m\u001b[0m\u001b[0;34m\u001b[0m\u001b[0m\n\u001b[1;32m      3\u001b[0m \u001b[0;32mimport\u001b[0m \u001b[0mmatplotlib\u001b[0m\u001b[0;34m.\u001b[0m\u001b[0mpyplot\u001b[0m \u001b[0;32mas\u001b[0m \u001b[0mplt\u001b[0m\u001b[0;34m\u001b[0m\u001b[0;34m\u001b[0m\u001b[0m\n\u001b[1;32m      4\u001b[0m \u001b[0;32mimport\u001b[0m \u001b[0mseaborn\u001b[0m \u001b[0;32mas\u001b[0m \u001b[0msns\u001b[0m\u001b[0;34m\u001b[0m\u001b[0;34m\u001b[0m\u001b[0m\n",
            "\u001b[0;31mModuleNotFoundError\u001b[0m: No module named 'parselmouth'",
            "",
            "\u001b[0;31m---------------------------------------------------------------------------\u001b[0;32m\nNOTE: If your import is failing due to a missing package, you can\nmanually install dependencies using either !pip or !apt.\n\nTo view examples of installing some common dependencies, click the\n\"Open Examples\" button below.\n\u001b[0;31m---------------------------------------------------------------------------\u001b[0m\n"
          ],
          "errorDetails": {
            "actions": [
              {
                "action": "open_url",
                "actionText": "Open Examples",
                "url": "/notebooks/snippets/importing_libraries.ipynb"
              }
            ]
          }
        }
      ]
    },
    {
      "cell_type": "code",
      "metadata": {
        "colab": {
          "base_uri": "https://localhost:8080/"
        },
        "id": "KdmP5EDJPmZM",
        "outputId": "f9321448-702d-4bdc-b3f2-e71308329df4"
      },
      "source": [
        "from google.colab import drive\n",
        "drive.mount(\"/content/drive\")"
      ],
      "execution_count": null,
      "outputs": [
        {
          "output_type": "stream",
          "text": [
            "Mounted at /content/drive\n"
          ],
          "name": "stdout"
        }
      ]
    },
    {
      "cell_type": "code",
      "metadata": {
        "id": "t7Gsg23vb1RN",
        "colab": {
          "base_uri": "https://localhost:8080/",
          "height": 195
        },
        "outputId": "34223eed-05f7-4104-ace9-c2cbe192ebfb"
      },
      "source": [
        "#Change directory \n",
        "#Go to shared with me folder create shortcut of shared folder and add it to the my drive so you can access that shared folder from here.\n",
        "\n",
        "import os \n",
        "os.chdir(\"/content/drive/MyDrive/Paleru_Khushi\")    \n"
      ],
      "execution_count": null,
      "outputs": [
        {
          "output_type": "error",
          "ename": "FileNotFoundError",
          "evalue": "ignored",
          "traceback": [
            "\u001b[0;31m---------------------------------------------------------------------------\u001b[0m",
            "\u001b[0;31mFileNotFoundError\u001b[0m                         Traceback (most recent call last)",
            "\u001b[0;32m<ipython-input-2-85117547a5bf>\u001b[0m in \u001b[0;36m<module>\u001b[0;34m()\u001b[0m\n\u001b[1;32m      3\u001b[0m \u001b[0;34m\u001b[0m\u001b[0m\n\u001b[1;32m      4\u001b[0m \u001b[0;32mimport\u001b[0m \u001b[0mos\u001b[0m\u001b[0;34m\u001b[0m\u001b[0;34m\u001b[0m\u001b[0m\n\u001b[0;32m----> 5\u001b[0;31m \u001b[0mos\u001b[0m\u001b[0;34m.\u001b[0m\u001b[0mchdir\u001b[0m\u001b[0;34m(\u001b[0m\u001b[0;34m\"/content/drive/MyDrive/Paleru_Study\"\u001b[0m\u001b[0;34m)\u001b[0m\u001b[0;34m\u001b[0m\u001b[0;34m\u001b[0m\u001b[0m\n\u001b[0m",
            "\u001b[0;31mFileNotFoundError\u001b[0m: [Errno 2] No such file or directory: '/content/drive/MyDrive/Paleru_Study'"
          ]
        }
      ]
    },
    {
      "cell_type": "code",
      "metadata": {
        "colab": {
          "base_uri": "https://localhost:8080/",
          "height": 289
        },
        "id": "RfU6d9PK9zXx",
        "outputId": "a441f814-555c-4234-f9bf-04186236be62"
      },
      "source": [
        "#This code block will create intensity graph for individual audios\n",
        "\n",
        "sns.set() # Use seaborn's default style to make attractive graphs\n",
        "\n",
        "snd = parselmouth.Sound('/content/drive/My Drive/Paleru_Khushi/Im_Superman.wav')  #loading the file\n",
        "\n",
        "intensity = snd.to_intensity()            \n",
        "intensity_list=intensity.values.T       #converting values into list\n",
        "for i in intensity_list:\n",
        "    if i == 0:\n",
        "        intensity_list.remove(i)      #removing the null or 0 dB intensity from audio\n",
        "\n",
        "print(sum(intensity_list)/len(intensity_list))  #average of intensity\n",
        "\n",
        "def draw_intensity(intensity):\n",
        "    plt.plot(intensity.xs(), intensity.values.T, linewidth=1)\n",
        "    plt.grid(False)\n",
        "    plt.ylim(0)\n",
        "    plt.ylabel(\"intensity [dB]\")\n",
        "plt.twinx()\n",
        "draw_intensity(intensity)\n",
        "plt.xlim([snd.xmin, snd.xmax])\n",
        "plt.show()"
      ],
      "execution_count": null,
      "outputs": [
        {
          "output_type": "stream",
          "text": [
            "[63.3743362]\n"
          ],
          "name": "stdout"
        },
        {
          "output_type": "display_data",
          "data": {
            "image/png": "[encoded data removed]",
            "text/plain": [
              "<Figure size 432x288 with 2 Axes>"
            ]
          },
          "metadata": {
            "tags": []
          }
        }
      ]
    },
    {
      "cell_type": "code",
      "metadata": {
        "colab": {
          "base_uri": "https://localhost:8080/"
        },
        "id": "lmu2yfcFsVri",
        "outputId": "1a81092a-947d-4aad-d49c-16cd7120c29c"
      },
      "source": [
        "#This code block will create intensity graph for set of audio  files\n",
        "#Finding the Threshold  intensity value using four high volume audios and four low volume audios.\n",
        "#The audio files used are present in the location: /content/drive/My Drive/Paleru_Khushi/Audio/\n",
        "\n",
        "avg_high = 0\n",
        "for i in range(1,5):                                                            #for taking all high intensity file and finding avg of it.\n",
        "    snd = parselmouth.Sound(\"/content/drive/My Drive/Paleru_Khushi/Audio/High-\"+str(i)+\".wav\")  #load sound from location\n",
        "    intensity = snd.to_intensity()                                              #finding intensity of sound\n",
        "    intensity_list=intensity.values.T                                           #taking values of intensity and making list of it\n",
        "    avg_high = sum(intensity_list)/len(intensity_list) + avg_high               # sum of high intensity\n",
        "\n",
        "avg_high = avg_high/4   #average of high intensity\n",
        "\n",
        "print(\"Average High Intensity is: \"+str(avg_high))\n",
        "\n",
        "avg_low = 0\n",
        "for i in range(1,5):                                                            #for taking all low intensity file and finding avg of it.\n",
        "    snd = parselmouth.Sound(\"/content/drive/My Drive/Paleru_Khushi/Audio/Low-\"+str(i)+\".wav\") ##load sound from location\n",
        "    intensity = snd.to_intensity()                                              #finding intensity of sound\n",
        "    intensity_list=intensity.values.T                                           #taking values of intensity and making list of it\n",
        "    avg_low = sum(intensity_list)/len(intensity_list) + avg_low                 # sum of low intensity\n",
        "\n",
        "avg_low = avg_low/ 4                                                            #average of low intensity\n",
        "\n",
        "print(\"Average Low Intensity is: \"+str(avg_low))\n",
        "\n",
        "avg_intensity = (avg_low + avg_high) / 2\n",
        "print(\"Threshold intensity is:\"+str(avg_intensity))\n",
        "\n"
      ],
      "execution_count": null,
      "outputs": [
        {
          "output_type": "stream",
          "text": [
            "Average High Intensity is: [68.98724387]\n",
            "Average Low Intensity is: [54.09309779]\n",
            "Threshold intensity is:[61.54017083]\n"
          ],
          "name": "stdout"
        }
      ]
    },
    {
      "cell_type": "code",
      "metadata": {
        "id": "DDn6rsIBlXwI"
      },
      "source": [
        ""
      ],
      "execution_count": null,
      "outputs": []
    }
  ]
}